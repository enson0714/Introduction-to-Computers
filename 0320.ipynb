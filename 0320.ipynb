{
  "nbformat": 4,
  "nbformat_minor": 0,
  "metadata": {
    "colab": {
      "provenance": [],
      "authorship_tag": "ABX9TyPLUhyYTUV6PI5Nkg3xcGtA",
      "include_colab_link": true
    },
    "kernelspec": {
      "name": "python3",
      "display_name": "Python 3"
    },
    "language_info": {
      "name": "python"
    }
  },
  "cells": [
    {
      "cell_type": "markdown",
      "metadata": {
        "id": "view-in-github",
        "colab_type": "text"
      },
      "source": [
        "<a href=\"https://colab.research.google.com/github/enson0714/Introduction-to-Computers/blob/main/0320.ipynb\" target=\"_parent\"><img src=\"https://colab.research.google.com/assets/colab-badge.svg\" alt=\"Open In Colab\"/></a>"
      ]
    },
    {
      "cell_type": "code",
      "source": [
        "c = int(input(\"請輸入國文成績:\"))\n",
        "m = int(input(\"請輸入數學成績:\"))\n",
        "e = int(input(\"請輸入英文成績:\"))\n",
        "total = c + m + e\n",
        "print(\"你的成績總分為:%3d\" % total)"
      ],
      "metadata": {
        "colab": {
          "base_uri": "https://localhost:8080/"
        },
        "id": "BiZrRqu3OFkc",
        "outputId": "36e2f0ec-c1a5-409d-f885-8725df2d13af"
      },
      "execution_count": null,
      "outputs": [
        {
          "output_type": "stream",
          "name": "stdout",
          "text": [
            "請輸入國文成績:50\n",
            "請輸入數學成績:60\n",
            "請輸入英文成績:70\n",
            "你的成績總分為:180\n"
          ]
        }
      ]
    },
    {
      "cell_type": "code",
      "source": [
        "上底 = int(input(\"請輸入梯形上底長度:\"))\n",
        "下底 = int(input(\"請輸入梯形下底長度:\"))\n",
        "高度 = int(input(\"請輸入梯形高度:\"))\n",
        "面積 = (上底 + 下底) * 高度/2\n",
        "print(\"上底的長度為:3\",\"下底的長度為:4\",\"高度為:3\",\"梯形的面積為: %3.1f\" % 面積)"
      ],
      "metadata": {
        "colab": {
          "base_uri": "https://localhost:8080/"
        },
        "id": "e6YAs2P_RDOf",
        "outputId": "28fd781f-f132-42fd-fb15-2a8eb2c1d023"
      },
      "execution_count": 32,
      "outputs": [
        {
          "output_type": "stream",
          "name": "stdout",
          "text": [
            "請輸入梯形上底長度:3\n",
            "請輸入梯形下底長度:4\n",
            "請輸入梯形高度:3\n",
            "上底的長度為:3 下底的長度為:4 高度為:3 梯形的面積為: 10.5\n"
          ]
        }
      ]
    },
    {
      "cell_type": "code",
      "source": [
        "h_cm = float(input(\"請輸入您的身高(cm):\"))\n",
        "w = float(input(\"請輸入您的體重(kg):\"))\n",
        "h_m = h_cm / 100\n",
        "bmi = w / (h_m ** 2)\n",
        "print(\"身高180公分,\",\"體重80公斤,\",\"bmi值為: %3.2f\" % bmi)"
      ],
      "metadata": {
        "colab": {
          "base_uri": "https://localhost:8080/"
        },
        "id": "4exVN8NkOFon",
        "outputId": "37dc3c11-e2e4-4209-8b6f-7322ebe9d857"
      },
      "execution_count": null,
      "outputs": [
        {
          "output_type": "stream",
          "name": "stdout",
          "text": [
            "請輸入您的身高(cm):180\n",
            "請輸入您的體重(kg):80\n",
            "身高180公分, 體重80公斤, bmi值為: 24.69\n"
          ]
        }
      ]
    }
  ]
}