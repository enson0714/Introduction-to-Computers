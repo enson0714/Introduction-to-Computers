{
  "nbformat": 4,
  "nbformat_minor": 0,
  "metadata": {
    "colab": {
      "provenance": [],
      "authorship_tag": "ABX9TyNE5LiIYKKZhuhoSNDPA02/",
      "include_colab_link": true
    },
    "kernelspec": {
      "name": "python3",
      "display_name": "Python 3"
    },
    "language_info": {
      "name": "python"
    }
  },
  "cells": [
    {
      "cell_type": "markdown",
      "metadata": {
        "id": "view-in-github",
        "colab_type": "text"
      },
      "source": [
        "<a href=\"https://colab.research.google.com/github/enson0714/Introduction-to-Computers/blob/main/0529.ipynb\" target=\"_parent\"><img src=\"https://colab.research.google.com/assets/colab-badge.svg\" alt=\"Open In Colab\"/></a>"
      ]
    },
    {
      "cell_type": "code",
      "execution_count": null,
      "metadata": {
        "colab": {
          "base_uri": "https://localhost:8080/"
        },
        "id": "3ni3lQI5y018",
        "outputId": "7283777b-0c67-4a8e-e46e-e8355816644e"
      },
      "outputs": [
        {
          "output_type": "stream",
          "name": "stdout",
          "text": [
            "[0, 1, 2, 3, 4, 5, 6, 7, 8]\n",
            "[1, 2, 3, 4, 5, 6, 7, 8, 9]\n",
            "[1, 3, 5, 7, 9]\n",
            "[10, 8, 6, 4, 2]\n"
          ]
        }
      ],
      "source": [
        "a = range(0,9,1)\n",
        "print(list(a))\n",
        "a = range(1,10,1)\n",
        "print(list(a))\n",
        "a = range(1,10,2)\n",
        "print(list(a))\n",
        "a = range(10,1,-2)\n",
        "print(list(a))"
      ]
    },
    {
      "cell_type": "code",
      "source": [
        "t = int(input(\"請輸入一個正整數: \"))\n",
        "for m in range(1, t+1):\n",
        "  print(m, end = \" \")"
      ],
      "metadata": {
        "colab": {
          "base_uri": "https://localhost:8080/"
        },
        "id": "Cp6SwoIh2c9g",
        "outputId": "414ba394-18cf-43ef-8df0-b608b9177d5b"
      },
      "execution_count": null,
      "outputs": [
        {
          "output_type": "stream",
          "name": "stdout",
          "text": [
            "請輸入一個正整數: 5\n",
            "1 2 3 4 5 "
          ]
        }
      ]
    },
    {
      "cell_type": "code",
      "source": [
        "t = int(input(\"請輸入一個正整數:\"))\n",
        "for m in range(1,t+1):\n",
        "  print(m, end = \" \")"
      ],
      "metadata": {
        "colab": {
          "base_uri": "https://localhost:8080/"
        },
        "id": "nUPc4WR62dEP",
        "outputId": "6b3e22a2-c474-45a6-d795-700a0cc87193"
      },
      "execution_count": null,
      "outputs": [
        {
          "output_type": "stream",
          "name": "stdout",
          "text": [
            "請輸入一個正整數:12\n",
            "1 2 3 4 5 6 7 8 9 10 11 12 "
          ]
        }
      ]
    },
    {
      "cell_type": "code",
      "source": [
        "sum = 0\n",
        "for n in range (3):\n",
        "  sum = sum + n\n",
        "print(sum)"
      ],
      "metadata": {
        "colab": {
          "base_uri": "https://localhost:8080/"
        },
        "id": "bZb2-L_m4hJH",
        "outputId": "041e952b-e9b2-4409-d0e1-2cdc490cc74e"
      },
      "execution_count": 2,
      "outputs": [
        {
          "output_type": "stream",
          "name": "stdout",
          "text": [
            "3\n"
          ]
        }
      ]
    },
    {
      "cell_type": "code",
      "source": [
        "sum = 0\n",
        "t = int(input(\"請輸入一個正整數:\"))\n",
        "for n in range(11):\n",
        "  sum += n\n",
        "print(\"1 到 {} 的整數和為: {}\".format(n, sum))"
      ],
      "metadata": {
        "colab": {
          "base_uri": "https://localhost:8080/"
        },
        "id": "0alE7T-bis3I",
        "outputId": "0c965b29-1716-4a07-e194-4bf814d40113"
      },
      "execution_count": 9,
      "outputs": [
        {
          "output_type": "stream",
          "name": "stdout",
          "text": [
            "請輸入一個正整數:10\n",
            "1 到 10 的整數和為: 55\n"
          ]
        }
      ]
    },
    {
      "cell_type": "code",
      "source": [
        "sum = 0\n",
        "t = int(input(\"請輸入一個正整數:\"))\n",
        "for n in range(51):\n",
        "  sum += n\n",
        "print(\"1 到 {} 的整數和為: {}\".format(n, sum))"
      ],
      "metadata": {
        "colab": {
          "base_uri": "https://localhost:8080/"
        },
        "id": "j1JAbrEGitLW",
        "outputId": "280e129a-5c54-4275-9b10-f192ec07a866"
      },
      "execution_count": 11,
      "outputs": [
        {
          "output_type": "stream",
          "name": "stdout",
          "text": [
            "請輸入一個正整數:50\n",
            "1 到 50 的整數和為: 1275\n"
          ]
        }
      ]
    },
    {
      "cell_type": "code",
      "source": [
        "sum = 0\n",
        "n = int(input(\"請輸入一個正整數:\"))\n",
        "for i in range(1, n+1):\n",
        "    sum += i\n",
        "    print(\"1 到 {} 的整數和為: {}\".format(i, sum))"
      ],
      "metadata": {
        "colab": {
          "base_uri": "https://localhost:8080/"
        },
        "id": "nOoxWOsdnV4d",
        "outputId": "8fe1cb48-f55c-40a8-fb50-42ab2af81c0b"
      },
      "execution_count": 19,
      "outputs": [
        {
          "output_type": "stream",
          "name": "stdout",
          "text": [
            "請輸入一個正整數:10\n",
            "1 到 1 的整數和為: 1\n",
            "1 到 2 的整數和為: 3\n",
            "1 到 3 的整數和為: 6\n",
            "1 到 4 的整數和為: 10\n",
            "1 到 5 的整數和為: 15\n",
            "1 到 6 的整數和為: 21\n",
            "1 到 7 的整數和為: 28\n",
            "1 到 8 的整數和為: 36\n",
            "1 到 9 的整數和為: 45\n",
            "1 到 10 的整數和為: 55\n"
          ]
        }
      ]
    }
  ]
}