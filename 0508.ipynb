{
  "nbformat": 4,
  "nbformat_minor": 0,
  "metadata": {
    "colab": {
      "provenance": [],
      "authorship_tag": "ABX9TyMDjqEsN8Dj6NNFO/MYgke2",
      "include_colab_link": true
    },
    "kernelspec": {
      "name": "python3",
      "display_name": "Python 3"
    },
    "language_info": {
      "name": "python"
    }
  },
  "cells": [
    {
      "cell_type": "markdown",
      "metadata": {
        "id": "view-in-github",
        "colab_type": "text"
      },
      "source": [
        "<a href=\"https://colab.research.google.com/github/enson0714/Introduction-to-Computers/blob/main/0508.ipynb\" target=\"_parent\"><img src=\"https://colab.research.google.com/assets/colab-badge.svg\" alt=\"Open In Colab\"/></a>"
      ]
    },
    {
      "cell_type": "code",
      "execution_count": null,
      "metadata": {
        "colab": {
          "base_uri": "https://localhost:8080/"
        },
        "id": "Atz0hBieo8GM",
        "outputId": "d61eabe2-fa76-403c-ee31-010bc36cf88c"
      },
      "outputs": [
        {
          "output_type": "stream",
          "name": "stdout",
          "text": [
            "請輸入您的體溫30\n",
            "體溫異常，請重新測量!\n"
          ]
        }
      ],
      "source": [
        "a = float(input(\"請輸入您的體溫\"))\n",
        "if a >= 37.5 :\n",
        "  print(\"體溫過高!\")\n",
        "elif 37 <= a <= 37.4:\n",
        "  print(\"體溫略高!\")\n",
        "elif 34 <= a <= 36.9:\n",
        "  print(\"體溫正常!\")\n",
        "else:\n",
        "  print(\"體溫異常，請重新測量!\")"
      ]
    },
    {
      "cell_type": "code",
      "source": [
        "a = int(input(\"請輸入成績\"))\n",
        "if a >= 90 :\n",
        "  print(\"A\")\n",
        "elif 80 <= a <= 89 :\n",
        "  print(\"B\")\n",
        "elif 70 <= a <= 79 :\n",
        "  print(\"C\")\n",
        "elif 60 <= a <= 69 :\n",
        "  print(\"D\")\n",
        "else:\n",
        "  print(\"E\")"
      ],
      "metadata": {
        "colab": {
          "base_uri": "https://localhost:8080/"
        },
        "id": "bhzexpZctVyV",
        "outputId": "702fd9dd-0cc0-4e45-bdf0-5b50e40ef8e6"
      },
      "execution_count": null,
      "outputs": [
        {
          "output_type": "stream",
          "name": "stdout",
          "text": [
            "請輸入成績90\n",
            "A\n"
          ]
        }
      ]
    },
    {
      "cell_type": "code",
      "source": [
        "a = int(input(\"請輸入月份\"))\n",
        "if a in [3,4,5] :\n",
        "  print(\"{}月是春天!\".format(a))\n",
        "elif a in [6,7,8] :\n",
        "  print(\"{}月是夏天!\")\n",
        "elif a in [9,10,11] :\n",
        "  print(\"{}月是秋天!\")\n",
        "elif a in [12,1,2] :\n",
        "  print(\"{}月是冬天!\")\n",
        "else:\n",
        "  print(\"月份不在範圍內!\")"
      ],
      "metadata": {
        "colab": {
          "base_uri": "https://localhost:8080/"
        },
        "id": "JVjJOoTdvbv1",
        "outputId": "d138bd32-3f6c-4843-fab0-f891c82095d4"
      },
      "execution_count": null,
      "outputs": [
        {
          "output_type": "stream",
          "name": "stdout",
          "text": [
            "請輸入月份7\n",
            "{}月是夏天!\n"
          ]
        }
      ]
    }
  ]
}